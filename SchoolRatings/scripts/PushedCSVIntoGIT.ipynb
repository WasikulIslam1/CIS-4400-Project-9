{
 "cells": [
  {
   "cell_type": "code",
   "execution_count": 2,
   "id": "5f0562f4",
   "metadata": {},
   "outputs": [
    {
     "name": "stdout",
     "output_type": "stream",
     "text": [
      "File uploaded to Azure Blob Storage.\n"
     ]
    }
   ],
   "source": [
    "from azure.storage.blob import BlobServiceClient, BlobClient, ContainerClient\n",
    "\n",
    "# Replace the following with your storage account details\n",
    "connect_str = \"connect\"\n",
    "\n",
    "# Create the BlobServiceClient object which will be used to create a container client\n",
    "service_client = BlobServiceClient.from_connection_string(connect_str)\n",
    "\n",
    "# Name of the container and the file\n",
    "container_name = \"schoolrtings\"\n",
    "file_path = \"/Users/nicholasnoto/Desktop/CIS 4400/Group Project/ETL_schoolratings.csv\"\n",
    "blob_name = \"schoolrtings\"\n",
    "\n",
    "# Create a blob client using the local file name as the name for the blob\n",
    "blob_client = service_client.get_blob_client(container=container_name, blob=blob_name)\n",
    "\n",
    "# Upload the CSV file\n",
    "with open(file_path, \"rb\") as data:\n",
    "    blob_client.upload_blob(data, overwrite=True)\n",
    "\n",
    "print(\"File uploaded to Azure Blob Storage.\")\n"
   ]
  },
  {
   "cell_type": "code",
   "execution_count": null,
   "id": "c93e5233",
   "metadata": {},
   "outputs": [],
   "source": []
  }
 ],
 "metadata": {
  "kernelspec": {
   "display_name": "Python 3 (ipykernel)",
   "language": "python",
   "name": "python3"
  },
  "language_info": {
   "codemirror_mode": {
    "name": "ipython",
    "version": 3
   },
   "file_extension": ".py",
   "mimetype": "text/x-python",
   "name": "python",
   "nbconvert_exporter": "python",
   "pygments_lexer": "ipython3",
   "version": "3.11.5"
  }
 },
 "nbformat": 4,
 "nbformat_minor": 5
}
