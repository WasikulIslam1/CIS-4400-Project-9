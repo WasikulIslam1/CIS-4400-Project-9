{
 "cells": [
  {
   "cell_type": "code",
   "execution_count": 8,
   "id": "5dfb5983",
   "metadata": {},
   "outputs": [
    {
     "name": "stdout",
     "output_type": "stream",
     "text": [
      "                                               Name           City State  \\\n",
      "0                  Central Middle School of Science      Anchorage    AK   \n",
      "1                                Chinook Elementary      Anchorage    AK   \n",
      "2                 Family Partnership Charter School      Anchorage    AK   \n",
      "3  Alaska State School for Deaf and Hard of Hearing      Anchorage    AK   \n",
      "4                             Ursa Major Elementary  Elmendorf Afb    AK   \n",
      "\n",
      "     Zip                  County  IsPrivate        Level LowGrade HighGrade  \\\n",
      "0  99501  Anchorage Municipality      False       Middle        7         8   \n",
      "1  99502  Anchorage Municipality      False   Elementary       PK         6   \n",
      "2  99503  Anchorage Municipality      False  Alternative        K        12   \n",
      "3  99504  Anchorage Municipality      False  Alternative       PK        12   \n",
      "4  99505  Anchorage Municipality      False                                   \n",
      "\n",
      "  RankStars PupilTeacherRatio  \n",
      "0         1              17.3  \n",
      "1         1              18.2  \n",
      "2       n/a              87.0  \n",
      "3       n/a              15.0  \n",
      "4       n/a              14.8  \n",
      "                                               Name           City State  \\\n",
      "0                  Central Middle School of Science      Anchorage    AK   \n",
      "1                                Chinook Elementary      Anchorage    AK   \n",
      "2                 Family Partnership Charter School      Anchorage    AK   \n",
      "3  Alaska State School for Deaf and Hard of Hearing      Anchorage    AK   \n",
      "4                             Ursa Major Elementary  Elmendorf Afb    AK   \n",
      "\n",
      "     Zip                  County  IsPrivate        Level LowGrade HighGrade  \\\n",
      "0  99501  Anchorage Municipality      False       Middle        7         8   \n",
      "1  99502  Anchorage Municipality      False   Elementary       PK         6   \n",
      "2  99503  Anchorage Municipality      False  Alternative        K        12   \n",
      "3  99504  Anchorage Municipality      False  Alternative       PK        12   \n",
      "4  99505  Anchorage Municipality      False                                   \n",
      "\n",
      "  RankStars PupilTeacherRatio  \n",
      "0         1              17.3  \n",
      "1         1              18.2  \n",
      "2       n/a              87.0  \n",
      "3       n/a              15.0  \n",
      "4       n/a              14.8  \n"
     ]
    }
   ],
   "source": [
    "import pandas as pd\n",
    "\n",
    "# Load JSON data directly from a file\n",
    "data1 = pd.read_json('/Users/nicholasnoto/Desktop/CIS 4400/Group Project/school_digger_AK_NE.json')\n",
    "data2 = pd.read_json('/Users/nicholasnoto/Desktop/CIS 4400/Group Project/SchoolDigger_NH_WY.json')\n",
    "\n",
    "# Ensure data is in list format and filter out None entries which do not have 'keys'\n",
    "data1 = [item for item in data1[0] if item and isinstance(item, dict)]\n",
    "data2 = [item for item in data2[0] if item and isinstance(item, dict)]\n",
    "\n",
    "# Convert lists of dictionaries to DataFrames\n",
    "df1 = pd.DataFrame(data1)\n",
    "df2 = pd.DataFrame(data2)\n",
    "\n",
    "# Combine DataFrames\n",
    "combined_df = pd.concat([df1, df2], ignore_index=True)\n",
    "\n",
    "# Display the DataFrame to check it\n",
    "print(combined_df.head())\n",
    "\n",
    "# Cleaning steps (optional based on your requirement)\n",
    "# Example: Remove columns filled mostly with NaNs\n",
    "threshold = len(combined_df) * 0.5  # Threshold of 50% presence\n",
    "combined_df.dropna(thresh=threshold, axis=1, inplace=True)\n",
    "\n",
    "# Replace 'None' and 'NaN' with a placeholder (e.g., 'Unknown' or empty string '')\n",
    "combined_df.fillna('Unknown', inplace=True)\n",
    "\n",
    "# Display cleaned DataFrame\n",
    "print(combined_df.head())\n"
   ]
  },
  {
   "cell_type": "code",
   "execution_count": 9,
   "id": "88ac7bd9",
   "metadata": {},
   "outputs": [
    {
     "name": "stdout",
     "output_type": "stream",
     "text": [
      "File saved successfully!\n"
     ]
    }
   ],
   "source": [
    "# Save the DataFrame to a CSV file\n",
    "combined_df.to_csv('/Users/nicholasnoto/Desktop/CIS 4400/Group Project/cleaned_data.csv', index=False)\n",
    "\n",
    "print(\"File saved successfully!\")\n"
   ]
  },
  {
   "cell_type": "code",
   "execution_count": null,
   "id": "464379b3",
   "metadata": {},
   "outputs": [],
   "source": []
  }
 ],
 "metadata": {
  "kernelspec": {
   "display_name": "Python 3 (ipykernel)",
   "language": "python",
   "name": "python3"
  },
  "language_info": {
   "codemirror_mode": {
    "name": "ipython",
    "version": 3
   },
   "file_extension": ".py",
   "mimetype": "text/x-python",
   "name": "python",
   "nbconvert_exporter": "python",
   "pygments_lexer": "ipython3",
   "version": "3.11.5"
  }
 },
 "nbformat": 4,
 "nbformat_minor": 5
}
