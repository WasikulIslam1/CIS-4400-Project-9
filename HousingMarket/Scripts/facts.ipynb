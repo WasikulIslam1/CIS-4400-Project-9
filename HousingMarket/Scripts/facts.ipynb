{
 "cells": [
  {
   "cell_type": "code",
   "execution_count": 1,
   "id": "d09d3455-c4ac-4c4e-92ec-5439964ef2fd",
   "metadata": {},
   "outputs": [],
   "source": [
    "#install packages\n",
    "import pandas as pd\n",
    "import numpy as np\n",
    "import json\n",
    "import requests\n",
    "from io import StringIO\n",
    "from azure.storage.blob import BlobServiceClient, BlobClient, ContainerClient\n",
    "from math import ceil\n",
    "import datetime\n",
    "import calendar\n",
    "from sqlalchemy import create_engine\n",
    "import pyarrow as pa\n",
    "import pyarrow.parquet as pq"
   ]
  },
  {
   "cell_type": "code",
   "execution_count": 2,
   "id": "a2d442f1-fa6a-4c2b-b2e0-7cb40ca64365",
   "metadata": {},
   "outputs": [],
   "source": [
    "# Load each CSV file into a DataFrame\n",
    "living_wages_df = pd.read_csv('/Users/wasikulislam/Desktop/Baruch/Baruch Spring Semester 2024/CIS 4400/Term Project/housingproj/CIS-4400-Project-9/LivingWages/Csv/LivingWages3.csv', usecols=['state_id', 'minlivingwage', 'maxlivingwage', 'avglivingwage'])\n",
    "dim_location_df = pd.read_csv('/Users/wasikulislam/Desktop/Baruch/Baruch Spring Semester 2024/CIS 4400/Term Project/housingproj/CIS-4400-Project-9/Location/csv/dim_location1.csv', usecols=['state_id', 'location_id', 'county_name'])\n",
    "housemarket_df = pd.read_csv('/Users/wasikulislam/Desktop/Baruch/Baruch Spring Semester 2024/CIS 4400/Term Project/housingproj/CIS-4400-Project-9/HousingMarket/Scripts/csv/dim_housingmarket.csv', usecols=['state_id', 'housing_id'])\n",
    "saleprice_df = pd.read_csv('/Users/wasikulislam/Desktop/Baruch/Baruch Spring Semester 2024/CIS 4400/Term Project/housingproj/CIS-4400-Project-9/HousingMarket/Scripts/csv/housingsales2_df.csv', usecols=['state_id', 'sale_price'])"
   ]
  },
  {
   "cell_type": "code",
   "execution_count": 3,
   "id": "1d5981fa-79c9-4c0c-86bd-26a8738ed82e",
   "metadata": {},
   "outputs": [],
   "source": [
    "# Assuming the DataFrames are already loaded with all columns\n",
    "# Now select specific columns\n",
    "dim_location_df = dim_location_df[['state_id', 'location_id', 'county_name']]\n",
    "housemarket_df = housemarket_df[['state_id', 'housing_id']]\n",
    "saleprice_df = saleprice_df[['state_id', 'sale_price']]\n",
    "living_wages_df = living_wages_df[['state_id', 'minlivingwage', 'maxlivingwage', 'avglivingwage']]"
   ]
  },
  {
   "cell_type": "code",
   "execution_count": 2,
   "id": "2cd87a04-f32e-4c61-a4d8-fd2af7fbbb97",
   "metadata": {},
   "outputs": [
    {
     "ename": "NameError",
     "evalue": "name 'dim_location_df' is not defined",
     "output_type": "error",
     "traceback": [
      "\u001b[0;31m---------------------------------------------------------------------------\u001b[0m",
      "\u001b[0;31mNameError\u001b[0m                                 Traceback (most recent call last)",
      "Cell \u001b[0;32mIn[2], line 2\u001b[0m\n\u001b[1;32m      1\u001b[0m \u001b[38;5;66;03m# Save dim_location_df to Parquet with selected columns\u001b[39;00m\n\u001b[0;32m----> 2\u001b[0m dim_location_df\u001b[38;5;241m.\u001b[39mto_parquet(\u001b[38;5;124m'\u001b[39m\u001b[38;5;124mdim_location_df.parquet\u001b[39m\u001b[38;5;124m'\u001b[39m, index\u001b[38;5;241m=\u001b[39m\u001b[38;5;28;01mFalse\u001b[39;00m, engine\u001b[38;5;241m=\u001b[39m\u001b[38;5;124m'\u001b[39m\u001b[38;5;124mpyarrow\u001b[39m\u001b[38;5;124m'\u001b[39m)\n\u001b[1;32m      4\u001b[0m \u001b[38;5;66;03m# Save housemarket_df to Parquet with selected columns\u001b[39;00m\n\u001b[1;32m      5\u001b[0m housemarket_df\u001b[38;5;241m.\u001b[39mto_parquet(\u001b[38;5;124m'\u001b[39m\u001b[38;5;124mhousemarket_df.parquet\u001b[39m\u001b[38;5;124m'\u001b[39m, index\u001b[38;5;241m=\u001b[39m\u001b[38;5;28;01mFalse\u001b[39;00m, engine\u001b[38;5;241m=\u001b[39m\u001b[38;5;124m'\u001b[39m\u001b[38;5;124mpyarrow\u001b[39m\u001b[38;5;124m'\u001b[39m)\n",
      "\u001b[0;31mNameError\u001b[0m: name 'dim_location_df' is not defined"
     ]
    }
   ],
   "source": [
    "# Save dim_location_df to Parquet with selected columns\n",
    "dim_location_df.to_parquet('dim_location_df.parquet', index=False, engine='pyarrow')\n",
    "\n",
    "# Save housemarket_df to Parquet with selected columns\n",
    "housemarket_df.to_parquet('housemarket_df.parquet', index=False, engine='pyarrow')\n",
    "\n",
    "# Save saleprice_df to Parquet with selected columns\n",
    "saleprice_df.to_parquet('saleprice_df.parquet', index=False, engine='pyarrow')\n",
    "\n",
    "# Save living_wages_df to Parquet with selected columns\n",
    "living_wages_df.to_parquet('living_wages_df.parquet', index=False, engine='pyarrow')\n"
   ]
  },
  {
   "cell_type": "code",
   "execution_count": 7,
   "id": "52cc9639-e77f-4d7c-a2e9-bf8c83c0a6bf",
   "metadata": {},
   "outputs": [
    {
     "data": {
      "text/html": [
       "<div>\n",
       "<style scoped>\n",
       "    .dataframe tbody tr th:only-of-type {\n",
       "        vertical-align: middle;\n",
       "    }\n",
       "\n",
       "    .dataframe tbody tr th {\n",
       "        vertical-align: top;\n",
       "    }\n",
       "\n",
       "    .dataframe thead th {\n",
       "        text-align: right;\n",
       "    }\n",
       "</style>\n",
       "<table border=\"1\" class=\"dataframe\">\n",
       "  <thead>\n",
       "    <tr style=\"text-align: right;\">\n",
       "      <th></th>\n",
       "      <th>state_id</th>\n",
       "      <th>location_id</th>\n",
       "      <th>county_name</th>\n",
       "    </tr>\n",
       "  </thead>\n",
       "  <tbody>\n",
       "    <tr>\n",
       "      <th>0</th>\n",
       "      <td>CA</td>\n",
       "      <td>1</td>\n",
       "      <td>Los Angeles</td>\n",
       "    </tr>\n",
       "    <tr>\n",
       "      <th>1</th>\n",
       "      <td>CA</td>\n",
       "      <td>2</td>\n",
       "      <td>Los Angeles</td>\n",
       "    </tr>\n",
       "    <tr>\n",
       "      <th>2</th>\n",
       "      <td>CA</td>\n",
       "      <td>3</td>\n",
       "      <td>Los Angeles</td>\n",
       "    </tr>\n",
       "    <tr>\n",
       "      <th>3</th>\n",
       "      <td>CA</td>\n",
       "      <td>4</td>\n",
       "      <td>Los Angeles</td>\n",
       "    </tr>\n",
       "    <tr>\n",
       "      <th>4</th>\n",
       "      <td>CA</td>\n",
       "      <td>5</td>\n",
       "      <td>Los Angeles</td>\n",
       "    </tr>\n",
       "  </tbody>\n",
       "</table>\n",
       "</div>"
      ],
      "text/plain": [
       "  state_id  location_id  county_name\n",
       "0       CA            1  Los Angeles\n",
       "1       CA            2  Los Angeles\n",
       "2       CA            3  Los Angeles\n",
       "3       CA            4  Los Angeles\n",
       "4       CA            5  Los Angeles"
      ]
     },
     "execution_count": 7,
     "metadata": {},
     "output_type": "execute_result"
    }
   ],
   "source": [
    "test_df = pd.read_parquet('/Users/wasikulislam/Desktop/Baruch/Baruch Spring Semester 2024/CIS 4400/Term Project/housingproj/CIS-4400-Project-9/HousingMarket/Scripts/parquet/dim_location_df.parquet', engine='pyarrow')\n",
    "test_df.head()"
   ]
  },
  {
   "cell_type": "code",
   "execution_count": 2,
   "id": "78d57ada-e9db-4d60-991f-b62e13f0e29e",
   "metadata": {},
   "outputs": [],
   "source": [
    "dim_location_df = pd.read_parquet('/Users/wasikulislam/Desktop/Baruch/Baruch Spring Semester 2024/CIS 4400/Term Project/housingproj/CIS-4400-Project-9/HousingMarket/Scripts/parquet/dim_location_df.parquet', engine='pyarrow')\n",
    "housemarket_df = pd.read_parquet('/Users/wasikulislam/Desktop/Baruch/Baruch Spring Semester 2024/CIS 4400/Term Project/housingproj/CIS-4400-Project-9/HousingMarket/Scripts/parquet/housemarket_df.parquet', engine='pyarrow')\n",
    "saleprice_df = pd.read_parquet('/Users/wasikulislam/Desktop/Baruch/Baruch Spring Semester 2024/CIS 4400/Term Project/housingproj/CIS-4400-Project-9/HousingMarket/Scripts/parquet/saleprice_df.parquet', engine='pyarrow')\n",
    "living_wages_df = pd.read_parquet('/Users/wasikulislam/Desktop/Baruch/Baruch Spring Semester 2024/CIS 4400/Term Project/housingproj/CIS-4400-Project-9/HousingMarket/Scripts/parquet/living_wages_df.parquet', engine='pyarrow')\n"
   ]
  },
  {
   "cell_type": "code",
   "execution_count": 9,
   "id": "780ee1bd-0619-4bfa-8d2c-6dd1094d82b4",
   "metadata": {},
   "outputs": [
    {
     "data": {
      "text/html": [
       "<div>\n",
       "<style scoped>\n",
       "    .dataframe tbody tr th:only-of-type {\n",
       "        vertical-align: middle;\n",
       "    }\n",
       "\n",
       "    .dataframe tbody tr th {\n",
       "        vertical-align: top;\n",
       "    }\n",
       "\n",
       "    .dataframe thead th {\n",
       "        text-align: right;\n",
       "    }\n",
       "</style>\n",
       "<table border=\"1\" class=\"dataframe\">\n",
       "  <thead>\n",
       "    <tr style=\"text-align: right;\">\n",
       "      <th></th>\n",
       "      <th>state_id</th>\n",
       "      <th>location_id</th>\n",
       "      <th>county_name</th>\n",
       "      <th>housing_id</th>\n",
       "      <th>sale_price</th>\n",
       "      <th>minlivingwage</th>\n",
       "      <th>maxlivingwage</th>\n",
       "      <th>avglivingwage</th>\n",
       "    </tr>\n",
       "  </thead>\n",
       "  <tbody>\n",
       "  </tbody>\n",
       "</table>\n",
       "</div>"
      ],
      "text/plain": [
       "Empty DataFrame\n",
       "Columns: [state_id, location_id, county_name, housing_id, sale_price, minlivingwage, maxlivingwage, avglivingwage]\n",
       "Index: []"
      ]
     },
     "execution_count": 9,
     "metadata": {},
     "output_type": "execute_result"
    }
   ],
   "source": [
    "# Create an empty DataFrame with the same columns as the DataFrames to be appended\n",
    "columns = dim_location_df.columns.tolist()\n",
    "\n",
    "# Concatenate the DataFrames using pd.concat\n",
    "realestate_facts = pd.concat([dim_location_df, housemarket_df, saleprice_df, living_wages_df], ignore_index=True)\n",
    "realestate_facts.dropna(inplace=True)\n",
    "\n",
    "# Check the shape and head of the concatenated DataFrame\n",
    "realestate_facts.head()"
   ]
  },
  {
   "cell_type": "code",
   "execution_count": null,
   "id": "7c8941fc-3383-4be6-83e7-1467c7f02122",
   "metadata": {},
   "outputs": [],
   "source": []
  }
 ],
 "metadata": {
  "kernelspec": {
   "display_name": "Python 3 (ipykernel)",
   "language": "python",
   "name": "python3"
  },
  "language_info": {
   "codemirror_mode": {
    "name": "ipython",
    "version": 3
   },
   "file_extension": ".py",
   "mimetype": "text/x-python",
   "name": "python",
   "nbconvert_exporter": "python",
   "pygments_lexer": "ipython3",
   "version": "3.11.3"
  }
 },
 "nbformat": 4,
 "nbformat_minor": 5
}
