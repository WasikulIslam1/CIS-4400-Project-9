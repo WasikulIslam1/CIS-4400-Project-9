{
 "cells": [
  {
   "cell_type": "code",
   "execution_count": 1,
   "id": "324e220b-8f09-4494-8325-ec66313f70e8",
   "metadata": {},
   "outputs": [],
   "source": [
    "import requests\n",
    "import json"
   ]
  },
  {
   "cell_type": "code",
   "execution_count": 2,
   "id": "f54414f5-bc8a-4140-b157-57120022ac43",
   "metadata": {},
   "outputs": [
    {
     "name": "stdout",
     "output_type": "stream",
     "text": [
      "106642382\n"
     ]
    }
   ],
   "source": [
    "owner = \"dolthub\"\n",
    "database = \"us-housing-prices-v2\"  # Put the database\n",
    "branch = \"main\"\n",
    "\n",
    "\n",
    "# Set the query to retrieve the data\n",
    "query = '''SELECT COUNT(*) FROM sales'''\n",
    "res = requests.get(\n",
    "  'https://www.dolthub.com/api/v1alpha1/{}/{}/{}'.format(owner, database, branch),\n",
    "  params={'q': query},\n",
    "  )\n",
    "\n",
    "response = res.json()\n",
    "total_count = int(response['rows'][0]['COUNT(*)'])\n",
    "print(total_count)"
   ]
  },
  {
   "cell_type": "code",
   "execution_count": null,
   "id": "ecf25c8c-820c-48fa-9874-f80bd90031f4",
   "metadata": {},
   "outputs": [],
   "source": [
    "total_count = int(response['rows'][0]['COUNT(*)'])\n",
    "print(f\"The number of rows is : {total_count}\")\n",
    "\n",
    "# Define the increment value\n",
    "increment = 1000\n",
    "\n",
    "# Starting offset\n",
    "offset = 0\n",
    "\n",
    "# Placeholder for the base SQL query, with an OFFSET placeholder\n",
    "base_query = \"SELECT * FROM sales WHERE state = 'NY' LIMIT 1000 OFFSET {offset}\"\n",
    "\n",
    "# Loop through, updating the OFFSET each time\n",
    "while offset < total_count:\n",
    "    # Update the SQL query with the current offset\n",
    "    updated_query = base_query.format(offset=offset)\n",
    "    print(updated_query) # (Example) Execute the query here or print it out\n",
    "    res = requests.get('https://www.dolthub.com/api/v1alpha1/{}/{}/{}'.format(owner, database, branch), params={'q': updated_query})\n",
    "    values = res.json()\n",
    "    if \"rows\" in values:\n",
    "      result = values['rows']\n",
    "      print(result)\n",
    "\n",
    "    offset += increment  # Increment the offset for the next iteration"
   ]
  }
 ],
 "metadata": {
  "kernelspec": {
   "display_name": "Python 3 (ipykernel)",
   "language": "python",
   "name": "python3"
  },
  "language_info": {
   "codemirror_mode": {
    "name": "ipython",
    "version": 3
   },
   "file_extension": ".py",
   "mimetype": "text/x-python",
   "name": "python",
   "nbconvert_exporter": "python",
   "pygments_lexer": "ipython3",
   "version": "3.11.3"
  }
 },
 "nbformat": 4,
 "nbformat_minor": 5
}
