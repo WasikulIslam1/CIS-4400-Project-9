{
 "cells": [
  {
   "cell_type": "code",
   "execution_count": 1,
   "id": "324e220b-8f09-4494-8325-ec66313f70e8",
   "metadata": {},
   "outputs": [],
   "source": [
    "import pandas as pd\n",
    "import numpy as np\n",
    "import json\n",
    "import requests\n",
    "from io import StringIO\n",
    "from azure.storage.blob import BlobServiceClient, BlobClient, ContainerClient "
   ]
  },
  {
   "cell_type": "code",
   "execution_count": 2,
   "id": "ae586cd4-eba1-4d51-a27a-5e838ffffd84",
   "metadata": {},
   "outputs": [
    {
     "name": "stdout",
     "output_type": "stream",
     "text": [
      "106642382\n"
     ]
    }
   ],
   "source": [
    "owner = \"dolthub\"\n",
    "database = \"us-housing-prices-v2\"  # Put the database\n",
    "branch = \"main\"\n",
    "\n",
    "\n",
    "# Set the query to retrieve the data\n",
    "query = '''SELECT COUNT(*) FROM sales'''\n",
    "res = requests.get(\n",
    "  'https://www.dolthub.com/api/v1alpha1/{}/{}/{}'.format(owner, database, branch),\n",
    "  params={'q': query},\n",
    "  )\n",
    "\n",
    "response = res.json()\n",
    "total_count = int(response['rows'][0]['COUNT(*)'])\n",
    "print(total_count)"
   ]
  },
  {
   "cell_type": "code",
   "execution_count": 3,
   "id": "dcf75824-bf08-42e9-866e-ec5c5999fc2d",
   "metadata": {},
   "outputs": [
    {
     "name": "stdout",
     "output_type": "stream",
     "text": [
      "(30000, 43)\n",
      "  state property_zip5 property_street_address   property_city property_county  \\\n",
      "0    AZ         85143       1 E CORAL BEAN DR  SAN TAN VALLEY           PINAL   \n",
      "1    AZ         85143      1 E PEPPERGRASS PL  SAN TAN VALLEY           PINAL   \n",
      "2    AZ         85173         1 N MESQUITE DR        SUPERIOR           PINAL   \n",
      "3    AZ         85143      1 W CANYON ROCK RD  SAN TAN VALLEY           PINAL   \n",
      "4    AZ         85143        1 W MILL REEF DR  SAN TAN VALLEY           PINAL   \n",
      "\n",
      "  property_id        sale_datetime property_type sale_price seller_1_name  \\\n",
      "0   210572230  2021-04-20 00:00:00   RESIDENTIAL          0          None   \n",
      "1   210571490  2020-09-16 00:00:00   RESIDENTIAL          0          None   \n",
      "2   10526004A  2021-02-25 00:00:00          None          0          None   \n",
      "3   210702840  2011-09-01 00:00:00   RESIDENTIAL      90000          None   \n",
      "4   210591110  2009-08-14 00:00:00   RESIDENTIAL      65000          None   \n",
      "\n",
      "   ... land_assessed_date seller_1_state seller_2_state buyer_1_state  \\\n",
      "0  ...               None           None           None          None   \n",
      "1  ...               None           None           None          None   \n",
      "2  ...               None           None           None          None   \n",
      "3  ...               None           None           None          None   \n",
      "4  ...               None           None           None          None   \n",
      "\n",
      "  buyer_2_state total_assessed_value total_appraised_value  \\\n",
      "0          None                 None                  None   \n",
      "1          None                 None                  None   \n",
      "2          None                 None                  None   \n",
      "3          None                 None                  None   \n",
      "4          None                 None                  None   \n",
      "\n",
      "  land_appraised_value building_appraised_value land_type  \n",
      "0                 None                     None      None  \n",
      "1                 None                     None      None  \n",
      "2                 None                     None      None  \n",
      "3                 None                     None      None  \n",
      "4                 None                     None      None  \n",
      "\n",
      "[5 rows x 43 columns]\n"
     ]
    }
   ],
   "source": [
    "states = [\"AL\", \"AK\", \"AZ\", \"AR\", \"CA\", \"CO\", \"CT\", \"DE\", \"FL\", \"GA\", \n",
    "          \"HI\", \"ID\", \"IL\", \"IN\", \"IA\", \"KS\", \"KY\", \"LA\", \"ME\", \"MD\", \n",
    "          \"MA\", \"MI\", \"MN\", \"MS\", \"MO\", \"MT\", \"NE\", \"NV\", \"NH\", \"NJ\", \n",
    "          \"NM\", \"NY\", \"NC\", \"ND\", \"OH\", \"OK\", \"OR\", \"PA\", \"RI\", \"SC\", \n",
    "          \"SD\", \"TN\", \"TX\", \"UT\", \"VT\", \"VA\", \"WA\", \"WV\", \"WI\", \"WY\"]  # List of all states\n",
    "\n",
    "# Initialize result storage\n",
    "all_results = []\n",
    "\n",
    "# Fetch data for each state\n",
    "for state in states:\n",
    "    query = f\"SELECT * FROM sales WHERE state = '{state}' LIMIT 10000\"\n",
    "    response = requests.get(f'https://www.dolthub.com/api/v1alpha1/{owner}/{database}/{branch}', params={'q': query})\n",
    "    \n",
    "    if response.status_code == 200:\n",
    "        try:\n",
    "            data = response.json()\n",
    "            if \"rows\" in data:\n",
    "                all_results.extend(data['rows'])  # Append results from each state\n",
    "        except json.JSONDecodeError:\n",
    "            print(f\"Failed to decode JSON for {state}:\", response.text)  # Print raw response text if JSON decoding fails\n",
    "    else:\n",
    "        print(f\"Failed to fetch data for {state}: {response.status_code} - {response.text}\")  # Handle non-200 responses\n",
    "\n",
    "# Convert list of dictionaries to DataFrame\n",
    "df = pd.DataFrame(all_results)\n",
    "print(df.shape)\n",
    "print(df.head())"
   ]
  },
  {
   "cell_type": "code",
   "execution_count": 4,
   "id": "30acb940-9ab6-4abe-baf0-1a945b7d4911",
   "metadata": {},
   "outputs": [
    {
     "name": "stdout",
     "output_type": "stream",
     "text": [
      "Uploaded housingsales.csv to Azure Blob Storage in container housingsales.\n"
     ]
    }
   ],
   "source": [
    "# Print the configuration\n",
    "connection_string = ['connectionString']\n",
    "CONNECTION_STRING_AZURE_STORAGE = connection_string\n",
    "CONTAINER_AZURE = 'housingsales'\n",
    "blob_name = 'housingsales.csv'\n",
    "\n",
    "#Convert DATAFRAME to csv\n",
    "output= StringIO()\n",
    "df.to_csv(output, index=False)\n",
    "data = output.getvalue()\n",
    "output.close()\n",
    "\n",
    "# Create the BlobServiceClient object\n",
    "blob_service_client = BlobServiceClient.from_connection_string(CONNECTION_STRING_AZURE_STORAGE)\n",
    "\n",
    "# Get a blob client using the container name and blob name\n",
    "blob_client = blob_service_client.get_blob_client(container=CONTAINER_AZURE, blob=blob_name)\n",
    "\n",
    "# Upload the CSV data\n",
    "blob_client.upload_blob(data, overwrite=True)\n",
    "\n",
    "print(f\"Uploaded {blob_name} to Azure Blob Storage in container {CONTAINER_AZURE}.\")"
   ]
  }
 ],
 "metadata": {
  "kernelspec": {
   "display_name": "Python 3 (ipykernel)",
   "language": "python",
   "name": "python3"
  },
  "language_info": {
   "codemirror_mode": {
    "name": "ipython",
    "version": 3
   },
   "file_extension": ".py",
   "mimetype": "text/x-python",
   "name": "python",
   "nbconvert_exporter": "python",
   "pygments_lexer": "ipython3",
   "version": "3.11.3"
  }
 },
 "nbformat": 4,
 "nbformat_minor": 5
}
